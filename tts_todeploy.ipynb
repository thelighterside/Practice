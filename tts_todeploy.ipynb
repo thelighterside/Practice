{
  "nbformat": 4,
  "nbformat_minor": 0,
  "metadata": {
    "colab": {
      "private_outputs": true,
      "provenance": [],
      "include_colab_link": true
    },
    "kernelspec": {
      "name": "python3",
      "display_name": "Python 3"
    },
    "language_info": {
      "name": "python"
    }
  },
  "cells": [
    {
      "cell_type": "markdown",
      "metadata": {
        "id": "view-in-github",
        "colab_type": "text"
      },
      "source": [
        "<a href=\"https://colab.research.google.com/github/thelighterside/Practice/blob/main/tts_todeploy.ipynb\" target=\"_parent\"><img src=\"https://colab.research.google.com/assets/colab-badge.svg\" alt=\"Open In Colab\"/></a>"
      ]
    },
    {
      "cell_type": "markdown",
      "source": [
        "# 😃 Practice: My TTS application on Huggingface\n",
        "\n",
        "We'll be learning how to deploy your code to Huggingface. This will your first application."
      ],
      "metadata": {
        "id": "csTnAxHPiPk3"
      }
    },
    {
      "cell_type": "markdown",
      "source": [
        "## Step 1. Install library gtts\n",
        "\n",
        "```\n",
        "!pip install gtts\n",
        "```"
      ],
      "metadata": {
        "id": "TR1yk_7AiTUI"
      }
    },
    {
      "cell_type": "code",
      "execution_count": null,
      "metadata": {
        "id": "fSheHJv6iO6_"
      },
      "outputs": [],
      "source": [
        "!pip install gTTS"
      ]
    },
    {
      "cell_type": "markdown",
      "source": [
        "## Step 2. Import library\n",
        "\n",
        "```\n",
        "from gtts import gTTS\n",
        "from IPython.display import Audio\n",
        "```"
      ],
      "metadata": {
        "id": "OUNw699viYHa"
      }
    },
    {
      "cell_type": "code",
      "source": [
        "from gtts import gTTS\n",
        "from IPython.display import Audio"
      ],
      "metadata": {
        "id": "Rg84HP8uifZX"
      },
      "execution_count": null,
      "outputs": []
    },
    {
      "cell_type": "markdown",
      "source": [
        "## Step 3. Define function for application\n",
        "\n",
        "```\n",
        "def text_to_speech(text):\n",
        "    tts = gTTS(text)\n",
        "    tts.save('output.mp3')\n",
        "    return 'output.mp3'  # This will save the audio file as 'output.mp3'\n",
        "```"
      ],
      "metadata": {
        "id": "viLSzl7libL0"
      }
    },
    {
      "cell_type": "code",
      "source": [
        "def text_to_speech(text):\n",
        "    tts = gTTS(text)\n",
        "    tts.save('output.mp3')\n",
        "    return 'output.mp3'  # This will save the audio file as 'output.mp3'"
      ],
      "metadata": {
        "id": "opLmH7I9ieda"
      },
      "execution_count": null,
      "outputs": []
    },
    {
      "cell_type": "markdown",
      "source": [
        "## Step 4. Test the app\n",
        "\n",
        "```\n",
        "audio_file = text_to_speech(\"Hello, this is your first text-to-speech conversion!\")\n",
        "Audio(audio_file)  # This will play the generated audio\n",
        "```"
      ],
      "metadata": {
        "id": "37r4t2qaihre"
      }
    },
    {
      "cell_type": "code",
      "source": [
        "audio_file = text_to_speech(\"Hello, this is your first text-to-speech conversion!\")\n",
        "Audio(audio_file)  # This will play the generated audio"
      ],
      "metadata": {
        "id": "G15LgMsJikAe"
      },
      "execution_count": null,
      "outputs": []
    },
    {
      "cell_type": "markdown",
      "source": [
        "## Step 5. Gradio implementation"
      ],
      "metadata": {
        "id": "aNNcyiuXikew"
      }
    },
    {
      "cell_type": "code",
      "source": [
        "# Install gradio\n",
        "!pip install Gradio"
      ],
      "metadata": {
        "id": "kqu19eOdinIy"
      },
      "execution_count": null,
      "outputs": []
    },
    {
      "cell_type": "markdown",
      "source": [
        "## Get the code ready to deploy: Write the complete code\n",
        "```\n",
        "# Import libraries\n",
        "from gtts import gTTS\n",
        "from IPython.display import Audio\n",
        "import gradio as gr\n",
        "\n",
        "# Defind text_to_speech and tts_interface functions\n",
        "def text_to_speech(text):\n",
        "    tts = gTTS(text)\n",
        "    tts.save('output.mp3')\n",
        "    return 'output.mp3'\n",
        "\n",
        "def tts_interface(text):\n",
        "    audio_path = text_to_speech(text)\n",
        "    return audio_path\n",
        "\n",
        "# Gradio interface; Change title\n",
        "interface = gr.Interface(fn=tts_interface, inputs=\"text\", outputs=\"audio\", title=\"Text to Speech Converter\")\n",
        "interface.launch()\n",
        "\n",
        "```"
      ],
      "metadata": {
        "id": "R9igWJN0iumj"
      }
    },
    {
      "cell_type": "code",
      "source": [
        "# Import libraries\n",
        "from gtts import gTTS\n",
        "from IPython.display import Audio\n",
        "import gradio as gr\n",
        "\n",
        "# Defind text_to_speech and tts_interface functions\n",
        "def text_to_speech(text):\n",
        "    tts = gTTS(text)\n",
        "    tts.save('output.mp3')\n",
        "    return 'output.mp3'\n",
        "\n",
        "def tts_interface(text):\n",
        "    audio_path = text_to_speech(text)\n",
        "    return audio_path\n",
        "\n",
        "# Gradio interface; Change title\n",
        "interface = gr.Interface(fn=tts_interface, inputs=\"text\", outputs=\"audio\", title=\"Text to Speech Converter\")\n",
        "interface.launch()"
      ],
      "metadata": {
        "id": "qP2ryyFfirOI"
      },
      "execution_count": null,
      "outputs": []
    },
    {
      "cell_type": "markdown",
      "source": [
        "## Step 6: Now go to Huggingface to deploy your application\n",
        "\n",
        "[Huggingface](https://huggingface.co)\n",
        "\n",
        "Steps:\n",
        "1. Create a Space (just like an repository in Github)\n",
        "2. Create two files:\n",
        "- requirements.txt\n",
        "- app.py\n",
        "3. Getting the app address:\n",
        "\n",
        "**yourID-Spacename.hf.space**\n",
        "(e.g., MK-316-mytts.hf.space)"
      ],
      "metadata": {
        "id": "ddpcZ4NDiybX"
      }
    },
    {
      "cell_type": "markdown",
      "source": [
        "# Language options to implement\n",
        "\n",
        "## Complete code 1\n",
        "\n",
        "```\n",
        "# Import libraries\n",
        "from gtts import gTTS\n",
        "from IPython.display import Audio\n",
        "import gradio as gr\n",
        "\n",
        "# Define text_to_speech function with language and TLD options\n",
        "def text_to_speech(text, lang='en', tld='com'):\n",
        "    # Handle Korean specifically as it does not use a TLD\n",
        "    if lang == 'ko' and tld == 'none':\n",
        "        tts = gTTS(text, lang='ko')\n",
        "    else:\n",
        "        tts = gTTS(text, lang=lang, tld=tld)\n",
        "    tts.save('output.mp3')  # Saves the audio file as 'output.mp3'\n",
        "    return 'output.mp3'\n",
        "\n",
        "# Define tts_interface function to include language and TLD inputs\n",
        "def tts_interface(text, lang, tld):\n",
        "    audio_path = text_to_speech(text, lang, tld)\n",
        "    return audio_path\n",
        "\n",
        "# Gradio interface with added dropdowns for language and TLD selection\n",
        "interface = gr.Interface(\n",
        "    fn=tts_interface,\n",
        "    inputs=[\n",
        "        \"text\",\n",
        "        gr.Dropdown(['en', 'ko'], label=\"Language\"),\n",
        "        gr.Dropdown(['com', 'co.uk', 'none'], label=\"TLD\", value='com')\n",
        "    ],\n",
        "    outputs=\"audio\",\n",
        "    title=\"Text-to-Speech Converter\"\n",
        ")\n",
        "\n",
        "# Launch the Gradio interface\n",
        "interface.launch()\n",
        "\n",
        "```"
      ],
      "metadata": {
        "id": "FiWY6rRIl0Ge"
      }
    },
    {
      "cell_type": "markdown",
      "source": [
        "## Complete code 2: User-friendly implementation\n",
        "[App demo](https://mk-316-text-to-speech.hf.space/)\n",
        "\n",
        "```\n",
        "# Import libraries\n",
        "from gtts import gTTS\n",
        "from IPython.display import Audio\n",
        "import gradio as gr\n",
        "\n",
        "# Define text_to_speech function with language and TLD options\n",
        "def text_to_speech(text, lang='en', tld='com'):\n",
        "    # Only apply tld if not using Korean\n",
        "    if lang == 'ko':\n",
        "        tts = gTTS(text, lang='ko')\n",
        "    else:\n",
        "        tts = gTTS(text, lang=lang, tld=tld)\n",
        "    tts.save('output.mp3')  # Saves the audio file as 'output.mp3'\n",
        "    return 'output.mp3'\n",
        "\n",
        "# Define tts_interface function to include language and TLD inputs\n",
        "def tts_interface(text, lang, tld):\n",
        "    # Pass tld only if language is not Korean\n",
        "    if lang == 'ko':\n",
        "        audio_path = text_to_speech(text, lang)\n",
        "    else:\n",
        "        audio_path = text_to_speech(text, lang, tld)\n",
        "    return audio_path\n",
        "\n",
        "# Gradio interface with added dropdowns for language and TLD selection\n",
        "interface = gr.Interface(\n",
        "    fn=tts_interface,\n",
        "    inputs=[\n",
        "        \"text\",\n",
        "        gr.Dropdown(choices=[('English','en'), ('Korean','ko')], label=\"Language to choose\"),\n",
        "        gr.Dropdown(choices=[('AmE', 'com'), ('BrE', 'co.uk'), ('None', 'none')], label=\"Accent/TLD\", value='com')\n",
        "    ],\n",
        "    outputs=\"audio\",\n",
        "    title=\"Text-to-Speech Converter\"\n",
        ")\n",
        "\n",
        "# Launch the Gradio interface\n",
        "interface.launch()\n",
        "```"
      ],
      "metadata": {
        "id": "lwFplxBtplNn"
      }
    },
    {
      "cell_type": "markdown",
      "source": [
        "## Complete code 3: Using streamlit\n",
        "\n",
        "[app demo2](https://mk-316-tts-st.hf.space/)\n",
        "\n",
        "```\n",
        "# Import libraries\n",
        "import streamlit as st\n",
        "from gtts import gTTS\n",
        "import os\n",
        "\n",
        "# Function to handle the Text-to-Speech conversion\n",
        "def text_to_speech(text, lang='en', tld='com'):\n",
        "    # Handle the language and TLD options\n",
        "    if lang == 'ko':\n",
        "        tts = gTTS(text, lang='ko')\n",
        "    else:\n",
        "        tts = gTTS(text, lang=lang, tld=tld)\n",
        "    audio_file = 'output.mp3'\n",
        "    tts.save(audio_file)  # Save the output as an MP3 file\n",
        "    return audio_file\n",
        "\n",
        "# Streamlit interface\n",
        "def main():\n",
        "    st.title(\"Text-to-Speech Converter\")\n",
        "    \n",
        "    # User input for text\n",
        "    user_input = st.text_area(\"Enter the text you want to convert to speech:\", \"Hello World\")\n",
        "    \n",
        "    # Language selection\n",
        "    language = st.selectbox(\"Choose Language\", options=['en', 'ko'], format_func=lambda x: 'English' if x == 'en' else 'Korean')\n",
        "    \n",
        "    # TLD selection based on language\n",
        "    if language == 'en':\n",
        "        tld = st.selectbox(\"Choose Accent\", options=[('AmE', 'com'), ('BrE', 'co.uk')], format_func=lambda x: x[0])\n",
        "        tld = tld[1]  # Get the TLD value from the tuple\n",
        "    else:\n",
        "        tld = 'none'\n",
        "    \n",
        "    # Button to convert text to speech\n",
        "    if st.button(\"Convert\"):\n",
        "        audio_path = text_to_speech(user_input, lang=language, tld=tld)\n",
        "        audio_file = open(audio_path, 'rb')\n",
        "        audio_bytes = audio_file.read()\n",
        "        st.audio(audio_bytes, format='audio/mp3')\n",
        "\n",
        "if __name__ == '__main__':\n",
        "    main()\n",
        "```\n"
      ],
      "metadata": {
        "id": "YFr-fJ4Zq_WL"
      }
    },
    {
      "cell_type": "markdown",
      "source": [
        "---\n",
        "The END"
      ],
      "metadata": {
        "id": "crSAf_wYlTNP"
      }
    }
  ]
}