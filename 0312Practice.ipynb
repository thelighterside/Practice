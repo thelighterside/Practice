{
  "nbformat": 4,
  "nbformat_minor": 0,
  "metadata": {
    "colab": {
      "provenance": [],
      "authorship_tag": "ABX9TyP36t+7r3FlkgEO/pEgzqi6",
      "include_colab_link": true
    },
    "kernelspec": {
      "name": "python3",
      "display_name": "Python 3"
    },
    "language_info": {
      "name": "python"
    }
  },
  "cells": [
    {
      "cell_type": "markdown",
      "metadata": {
        "id": "view-in-github",
        "colab_type": "text"
      },
      "source": [
        "<a href=\"https://colab.research.google.com/github/thelighterside/Practice/blob/main/0312Practice.ipynb\" target=\"_parent\"><img src=\"https://colab.research.google.com/assets/colab-badge.svg\" alt=\"Open In Colab\"/></a>"
      ]
    },
    {
      "cell_type": "markdown",
      "source": [
        "# Lesson 3.1 Comment and code cells\n",
        "\n",
        "by thelighterside"
      ],
      "metadata": {
        "id": "SoFo4SXR2E6A"
      }
    },
    {
      "cell_type": "code",
      "execution_count": 4,
      "metadata": {
        "colab": {
          "base_uri": "https://localhost:8080/"
        },
        "id": "nSoNVqND1Yni",
        "outputId": "91593b39-157f-49b6-d4a1-e0a000e64432"
      },
      "outputs": [
        {
          "output_type": "stream",
          "name": "stdout",
          "text": [
            "Hello\n"
          ]
        }
      ],
      "source": [
        "# My first python function: print()\n",
        "\n",
        "print(\"Hello\")"
      ]
    },
    {
      "cell_type": "code",
      "source": [
        "# This is a comment line <= This is a comment line\n",
        "# Comments can be more than one line\n",
        "\n",
        "print(\"Hello, Python!\") # This is a code line\n",
        "print('This is the output') # Comment can also be written this way."
      ],
      "metadata": {
        "colab": {
          "base_uri": "https://localhost:8080/"
        },
        "id": "_6Xp9f4Z4Qpf",
        "outputId": "10dbc5a2-4ee4-4c8a-8c86-643c77f2ec67"
      },
      "execution_count": 5,
      "outputs": [
        {
          "output_type": "stream",
          "name": "stdout",
          "text": [
            "Hello, Python!\n",
            "This is the output\n"
          ]
        }
      ]
    },
    {
      "cell_type": "markdown",
      "source": [
        "## 3.2 Input and out"
      ],
      "metadata": {
        "id": "qq5VKzow4iFm"
      }
    },
    {
      "cell_type": "code",
      "source": [
        "import requests\n",
        "\n",
        "# Link to your raw text file\n",
        "url = \"https://raw.githubusercontent.com/MK316/Coding4ET/main/data/sample.txt\"\n",
        "\n",
        "# Reading the file content\n",
        "mydata = requests.get(url)\n",
        "content = mydata.text\n",
        "\n",
        "# Displaying the content\n",
        "print(content)"
      ],
      "metadata": {
        "colab": {
          "base_uri": "https://localhost:8080/"
        },
        "id": "fK_LNhU_4nv9",
        "outputId": "b251ddc8-bbe8-4921-9ae3-413ebab3e16c"
      },
      "execution_count": 6,
      "outputs": [
        {
          "output_type": "stream",
          "name": "stdout",
          "text": [
            "A Fox one day spied a beautiful bunch of ripe grapes hanging from a vine trained along the branches of a tree. The grapes seemed ready to burst with juice, and the Fox's mouth watered as he gazed longingly at them.\n",
            "\n",
            "The bunch hung from a high branch, and the Fox had to jump for it. The first time he jumped he missed it by a long way. So he walked off a short distance and took a running leap at it, only to fall short once more. Again and again he tried, but in vain.\n",
            "\n",
            "Now he sat down and looked at the grapes in disgust.\n",
            "\n"
          ]
        }
      ]
    },
    {
      "cell_type": "code",
      "source": [
        "from IPython.display import Image, display\n",
        "\n",
        "# URL of your image on GitHub (raw link)\n",
        "url = \"https://raw.githubusercontent.com/MK316/Coding4ET/main/images/logo.png\"\n",
        "\n",
        "# Display the image directly from the URL\n",
        "display(Image(url=url))\n"
      ],
      "metadata": {
        "colab": {
          "base_uri": "https://localhost:8080/",
          "height": 343
        },
        "id": "r31mpZyk9g3x",
        "outputId": "d381cbc7-009d-4ba1-92ba-df945de766da"
      },
      "execution_count": 7,
      "outputs": [
        {
          "output_type": "display_data",
          "data": {
            "text/html": [
              "<img src=\"https://raw.githubusercontent.com/MK316/Coding4ET/main/images/logo.png\"/>"
            ],
            "text/plain": [
              "<IPython.core.display.Image object>"
            ]
          },
          "metadata": {}
        }
      ]
    },
    {
      "cell_type": "markdown",
      "source": [
        "## 3.3 Variables"
      ],
      "metadata": {
        "id": "knNw3BAo_9JG"
      }
    },
    {
      "cell_type": "code",
      "source": [
        "x = 5\n",
        "y = \"Hello, World!\"\n",
        "\n",
        "print(x)\n",
        "print(y)"
      ],
      "metadata": {
        "colab": {
          "base_uri": "https://localhost:8080/"
        },
        "id": "5yUHaf5WAATj",
        "outputId": "f4444e6d-91f3-46f5-ebd1-9ca66a338c16"
      },
      "execution_count": 8,
      "outputs": [
        {
          "output_type": "stream",
          "name": "stdout",
          "text": [
            "5\n",
            "Hello, World!\n"
          ]
        }
      ]
    },
    {
      "cell_type": "code",
      "source": [
        "a = 5\n",
        "b = \"120\"\n",
        "c = a * b\n",
        "\n",
        "print(c)\n",
        "print(\"-\"*20)\n",
        "print(\"I see!\")"
      ],
      "metadata": {
        "colab": {
          "base_uri": "https://localhost:8080/"
        },
        "id": "PIKL3fzXB_Ee",
        "outputId": "ebca4f3a-629a-4533-fab7-806a3c06abe5"
      },
      "execution_count": 20,
      "outputs": [
        {
          "output_type": "stream",
          "name": "stdout",
          "text": [
            "120120120120120\n",
            "--------------------\n",
            "I see!\n"
          ]
        }
      ]
    },
    {
      "cell_type": "code",
      "source": [
        "# Cell 1: Creating Variables\n",
        "name = \"John Doe\"\n",
        "age = 30\n",
        "height = 5.9\n",
        "is_student = False"
      ],
      "metadata": {
        "id": "psJOvRCdFQbg"
      },
      "execution_count": 22,
      "outputs": []
    },
    {
      "cell_type": "code",
      "source": [
        "# Cell 2: Working with Variables\n",
        "print(f\"Name: {name}\")\n",
        "print(f\"Age: {age}\")\n",
        "print(f\"Height: {height} feet\")\n",
        "print(f\"Is a student: {is_student}\")"
      ],
      "metadata": {
        "colab": {
          "base_uri": "https://localhost:8080/"
        },
        "id": "2vUWttHAFe-r",
        "outputId": "fdf505d8-6d5f-4554-d865-92f5c73cd40c"
      },
      "execution_count": 24,
      "outputs": [
        {
          "output_type": "stream",
          "name": "stdout",
          "text": [
            "Name: John Doe\n",
            "Age: 30\n",
            "Height: 5.9 feet\n",
            "Is a student: False\n"
          ]
        }
      ]
    },
    {
      "cell_type": "code",
      "source": [
        "# Cell 3: Changing Variable Value\n",
        "age = 31      # Note that the value '30' was assigned to the variable 'age' in the Cell 2\n",
        "print(f\"Updated Age: {age}\")"
      ],
      "metadata": {
        "colab": {
          "base_uri": "https://localhost:8080/"
        },
        "id": "E0h6QSsPGJUB",
        "outputId": "577f1512-a0b6-4ac8-ddc3-e3bac9e8d79f"
      },
      "execution_count": 25,
      "outputs": [
        {
          "output_type": "stream",
          "name": "stdout",
          "text": [
            "Updated Age: 31\n"
          ]
        }
      ]
    }
  ]
}